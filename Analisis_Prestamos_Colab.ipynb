{
  "cells": [
    {
      "cell_type": "code",
      "execution_count": 2,
      "metadata": {
        "id": "v_4RYM3nbKSW"
      },
      "outputs": [],
      "source": [
        "# Importar las librerías\n",
        "import pandas as pd                    # Para manejar datos en tablas\n",
        "import numpy as np                     # Para operaciones matemáticas\n",
        "import matplotlib.pyplot as plt        # Para hacer gráficos\n",
        "from sklearn.ensemble import GradientBoostingClassifier  # El modelo de ML\n",
        "from sklearn.model_selection import train_test_split    # Para dividir datos\n",
        "from sklearn.preprocessing import LabelEncoder          # Para convertir texto a números\n",
        "from sklearn.metrics import accuracy_score, classification_report  # Para evaluar"
      ]
    },
    {
      "cell_type": "markdown",
      "metadata": {
        "id": "MWdHlDMRbKSX"
      },
      "source": [
        "## 📁 PASO 2: Cargar los datos"
      ]
    },
    {
      "cell_type": "code",
      "source": [
        "# Este comando conecta colab con drive.\n",
        "from google.colab import drive\n",
        "drive.mount('/content/drive')"
      ],
      "metadata": {
        "colab": {
          "base_uri": "https://localhost:8080/"
        },
        "id": "zICzJVT5cEN7",
        "outputId": "fc7ffc04-1907-4748-cc10-1bc5e4b01f77"
      },
      "execution_count": 3,
      "outputs": [
        {
          "output_type": "stream",
          "name": "stdout",
          "text": [
            "Mounted at /content/drive\n"
          ]
        }
      ]
    },
    {
      "cell_type": "code",
      "source": [
        "#Hacemos la conexion con la plantilla de datos a trabajar\n",
        "path = \"/content/drive/MyDrive/ColabTest/Clase Profe/Marchine Learning/Core/BD/train.csv\"\n",
        "df = pd.read_csv(path)"
      ],
      "metadata": {
        "id": "eXBgrk2wcEJL"
      },
      "execution_count": 4,
      "outputs": []
    },
    {
      "cell_type": "markdown",
      "metadata": {
        "id": "K2VzH4-YbKSY"
      },
      "source": [
        "## 🔍 PASO 3: Explorar los datos"
      ]
    },
    {
      "cell_type": "code",
      "execution_count": 5,
      "metadata": {
        "colab": {
          "base_uri": "https://localhost:8080/"
        },
        "id": "5S1RT5n-bKSY",
        "outputId": "f22ba16b-448a-4076-f697-85acfdb2315b"
      },
      "outputs": [
        {
          "output_type": "stream",
          "name": "stdout",
          "text": [
            "📋 Primeras 5 filas de los datos:\n",
            "    Loan_ID Gender Married Dependents     Education Self_Employed  \\\n",
            "0  LP001002   Male      No          0      Graduate            No   \n",
            "1  LP001003   Male     Yes          1      Graduate            No   \n",
            "2  LP001005   Male     Yes          0      Graduate           Yes   \n",
            "3  LP001006   Male     Yes          0  Not Graduate            No   \n",
            "4  LP001008   Male      No          0      Graduate            No   \n",
            "\n",
            "   ApplicantIncome  CoapplicantIncome  LoanAmount  Loan_Amount_Term  \\\n",
            "0             5849                0.0         NaN             360.0   \n",
            "1             4583             1508.0       128.0             360.0   \n",
            "2             3000                0.0        66.0             360.0   \n",
            "3             2583             2358.0       120.0             360.0   \n",
            "4             6000                0.0       141.0             360.0   \n",
            "\n",
            "   Credit_History Property_Area Loan_Status  \n",
            "0             1.0         Urban           Y  \n",
            "1             1.0         Rural           N  \n",
            "2             1.0         Urban           Y  \n",
            "3             1.0         Urban           Y  \n",
            "4             1.0         Urban           Y  \n",
            "\n",
            "📊 Información básica:\n",
            "<class 'pandas.core.frame.DataFrame'>\n",
            "RangeIndex: 614 entries, 0 to 613\n",
            "Data columns (total 13 columns):\n",
            " #   Column             Non-Null Count  Dtype  \n",
            "---  ------             --------------  -----  \n",
            " 0   Loan_ID            614 non-null    object \n",
            " 1   Gender             601 non-null    object \n",
            " 2   Married            611 non-null    object \n",
            " 3   Dependents         599 non-null    object \n",
            " 4   Education          614 non-null    object \n",
            " 5   Self_Employed      582 non-null    object \n",
            " 6   ApplicantIncome    614 non-null    int64  \n",
            " 7   CoapplicantIncome  614 non-null    float64\n",
            " 8   LoanAmount         592 non-null    float64\n",
            " 9   Loan_Amount_Term   600 non-null    float64\n",
            " 10  Credit_History     564 non-null    float64\n",
            " 11  Property_Area      614 non-null    object \n",
            " 12  Loan_Status        614 non-null    object \n",
            "dtypes: float64(4), int64(1), object(8)\n",
            "memory usage: 62.5+ KB\n",
            "None\n"
          ]
        }
      ],
      "source": [
        "# Ver las primeras filas\n",
        "print(\"📋 Primeras 5 filas de los datos:\")\n",
        "print(df.head())\n",
        "\n",
        "print(\"\\n📊 Información básica:\")\n",
        "print(df.info())"
      ]
    },
    {
      "cell_type": "code",
      "source": [
        "#Revisamos el dataFrame\n",
        "df"
      ],
      "metadata": {
        "colab": {
          "base_uri": "https://localhost:8080/",
          "height": 424
        },
        "id": "ANJ1qwtZckBj",
        "outputId": "3b65b0db-8efd-431c-ac26-4c8e4ebba08d"
      },
      "execution_count": 6,
      "outputs": [
        {
          "output_type": "execute_result",
          "data": {
            "text/plain": [
              "      Loan_ID  Gender Married Dependents     Education Self_Employed  \\\n",
              "0    LP001002    Male      No          0      Graduate            No   \n",
              "1    LP001003    Male     Yes          1      Graduate            No   \n",
              "2    LP001005    Male     Yes          0      Graduate           Yes   \n",
              "3    LP001006    Male     Yes          0  Not Graduate            No   \n",
              "4    LP001008    Male      No          0      Graduate            No   \n",
              "..        ...     ...     ...        ...           ...           ...   \n",
              "609  LP002978  Female      No          0      Graduate            No   \n",
              "610  LP002979    Male     Yes         3+      Graduate            No   \n",
              "611  LP002983    Male     Yes          1      Graduate            No   \n",
              "612  LP002984    Male     Yes          2      Graduate            No   \n",
              "613  LP002990  Female      No          0      Graduate           Yes   \n",
              "\n",
              "     ApplicantIncome  CoapplicantIncome  LoanAmount  Loan_Amount_Term  \\\n",
              "0               5849                0.0         NaN             360.0   \n",
              "1               4583             1508.0       128.0             360.0   \n",
              "2               3000                0.0        66.0             360.0   \n",
              "3               2583             2358.0       120.0             360.0   \n",
              "4               6000                0.0       141.0             360.0   \n",
              "..               ...                ...         ...               ...   \n",
              "609             2900                0.0        71.0             360.0   \n",
              "610             4106                0.0        40.0             180.0   \n",
              "611             8072              240.0       253.0             360.0   \n",
              "612             7583                0.0       187.0             360.0   \n",
              "613             4583                0.0       133.0             360.0   \n",
              "\n",
              "     Credit_History Property_Area Loan_Status  \n",
              "0               1.0         Urban           Y  \n",
              "1               1.0         Rural           N  \n",
              "2               1.0         Urban           Y  \n",
              "3               1.0         Urban           Y  \n",
              "4               1.0         Urban           Y  \n",
              "..              ...           ...         ...  \n",
              "609             1.0         Rural           Y  \n",
              "610             1.0         Rural           Y  \n",
              "611             1.0         Urban           Y  \n",
              "612             1.0         Urban           Y  \n",
              "613             0.0     Semiurban           N  \n",
              "\n",
              "[614 rows x 13 columns]"
            ],
            "text/html": [
              "\n",
              "  <div id=\"df-ac554a71-0d50-4430-ab68-fdddcd6a0a73\" class=\"colab-df-container\">\n",
              "    <div>\n",
              "<style scoped>\n",
              "    .dataframe tbody tr th:only-of-type {\n",
              "        vertical-align: middle;\n",
              "    }\n",
              "\n",
              "    .dataframe tbody tr th {\n",
              "        vertical-align: top;\n",
              "    }\n",
              "\n",
              "    .dataframe thead th {\n",
              "        text-align: right;\n",
              "    }\n",
              "</style>\n",
              "<table border=\"1\" class=\"dataframe\">\n",
              "  <thead>\n",
              "    <tr style=\"text-align: right;\">\n",
              "      <th></th>\n",
              "      <th>Loan_ID</th>\n",
              "      <th>Gender</th>\n",
              "      <th>Married</th>\n",
              "      <th>Dependents</th>\n",
              "      <th>Education</th>\n",
              "      <th>Self_Employed</th>\n",
              "      <th>ApplicantIncome</th>\n",
              "      <th>CoapplicantIncome</th>\n",
              "      <th>LoanAmount</th>\n",
              "      <th>Loan_Amount_Term</th>\n",
              "      <th>Credit_History</th>\n",
              "      <th>Property_Area</th>\n",
              "      <th>Loan_Status</th>\n",
              "    </tr>\n",
              "  </thead>\n",
              "  <tbody>\n",
              "    <tr>\n",
              "      <th>0</th>\n",
              "      <td>LP001002</td>\n",
              "      <td>Male</td>\n",
              "      <td>No</td>\n",
              "      <td>0</td>\n",
              "      <td>Graduate</td>\n",
              "      <td>No</td>\n",
              "      <td>5849</td>\n",
              "      <td>0.0</td>\n",
              "      <td>NaN</td>\n",
              "      <td>360.0</td>\n",
              "      <td>1.0</td>\n",
              "      <td>Urban</td>\n",
              "      <td>Y</td>\n",
              "    </tr>\n",
              "    <tr>\n",
              "      <th>1</th>\n",
              "      <td>LP001003</td>\n",
              "      <td>Male</td>\n",
              "      <td>Yes</td>\n",
              "      <td>1</td>\n",
              "      <td>Graduate</td>\n",
              "      <td>No</td>\n",
              "      <td>4583</td>\n",
              "      <td>1508.0</td>\n",
              "      <td>128.0</td>\n",
              "      <td>360.0</td>\n",
              "      <td>1.0</td>\n",
              "      <td>Rural</td>\n",
              "      <td>N</td>\n",
              "    </tr>\n",
              "    <tr>\n",
              "      <th>2</th>\n",
              "      <td>LP001005</td>\n",
              "      <td>Male</td>\n",
              "      <td>Yes</td>\n",
              "      <td>0</td>\n",
              "      <td>Graduate</td>\n",
              "      <td>Yes</td>\n",
              "      <td>3000</td>\n",
              "      <td>0.0</td>\n",
              "      <td>66.0</td>\n",
              "      <td>360.0</td>\n",
              "      <td>1.0</td>\n",
              "      <td>Urban</td>\n",
              "      <td>Y</td>\n",
              "    </tr>\n",
              "    <tr>\n",
              "      <th>3</th>\n",
              "      <td>LP001006</td>\n",
              "      <td>Male</td>\n",
              "      <td>Yes</td>\n",
              "      <td>0</td>\n",
              "      <td>Not Graduate</td>\n",
              "      <td>No</td>\n",
              "      <td>2583</td>\n",
              "      <td>2358.0</td>\n",
              "      <td>120.0</td>\n",
              "      <td>360.0</td>\n",
              "      <td>1.0</td>\n",
              "      <td>Urban</td>\n",
              "      <td>Y</td>\n",
              "    </tr>\n",
              "    <tr>\n",
              "      <th>4</th>\n",
              "      <td>LP001008</td>\n",
              "      <td>Male</td>\n",
              "      <td>No</td>\n",
              "      <td>0</td>\n",
              "      <td>Graduate</td>\n",
              "      <td>No</td>\n",
              "      <td>6000</td>\n",
              "      <td>0.0</td>\n",
              "      <td>141.0</td>\n",
              "      <td>360.0</td>\n",
              "      <td>1.0</td>\n",
              "      <td>Urban</td>\n",
              "      <td>Y</td>\n",
              "    </tr>\n",
              "    <tr>\n",
              "      <th>...</th>\n",
              "      <td>...</td>\n",
              "      <td>...</td>\n",
              "      <td>...</td>\n",
              "      <td>...</td>\n",
              "      <td>...</td>\n",
              "      <td>...</td>\n",
              "      <td>...</td>\n",
              "      <td>...</td>\n",
              "      <td>...</td>\n",
              "      <td>...</td>\n",
              "      <td>...</td>\n",
              "      <td>...</td>\n",
              "      <td>...</td>\n",
              "    </tr>\n",
              "    <tr>\n",
              "      <th>609</th>\n",
              "      <td>LP002978</td>\n",
              "      <td>Female</td>\n",
              "      <td>No</td>\n",
              "      <td>0</td>\n",
              "      <td>Graduate</td>\n",
              "      <td>No</td>\n",
              "      <td>2900</td>\n",
              "      <td>0.0</td>\n",
              "      <td>71.0</td>\n",
              "      <td>360.0</td>\n",
              "      <td>1.0</td>\n",
              "      <td>Rural</td>\n",
              "      <td>Y</td>\n",
              "    </tr>\n",
              "    <tr>\n",
              "      <th>610</th>\n",
              "      <td>LP002979</td>\n",
              "      <td>Male</td>\n",
              "      <td>Yes</td>\n",
              "      <td>3+</td>\n",
              "      <td>Graduate</td>\n",
              "      <td>No</td>\n",
              "      <td>4106</td>\n",
              "      <td>0.0</td>\n",
              "      <td>40.0</td>\n",
              "      <td>180.0</td>\n",
              "      <td>1.0</td>\n",
              "      <td>Rural</td>\n",
              "      <td>Y</td>\n",
              "    </tr>\n",
              "    <tr>\n",
              "      <th>611</th>\n",
              "      <td>LP002983</td>\n",
              "      <td>Male</td>\n",
              "      <td>Yes</td>\n",
              "      <td>1</td>\n",
              "      <td>Graduate</td>\n",
              "      <td>No</td>\n",
              "      <td>8072</td>\n",
              "      <td>240.0</td>\n",
              "      <td>253.0</td>\n",
              "      <td>360.0</td>\n",
              "      <td>1.0</td>\n",
              "      <td>Urban</td>\n",
              "      <td>Y</td>\n",
              "    </tr>\n",
              "    <tr>\n",
              "      <th>612</th>\n",
              "      <td>LP002984</td>\n",
              "      <td>Male</td>\n",
              "      <td>Yes</td>\n",
              "      <td>2</td>\n",
              "      <td>Graduate</td>\n",
              "      <td>No</td>\n",
              "      <td>7583</td>\n",
              "      <td>0.0</td>\n",
              "      <td>187.0</td>\n",
              "      <td>360.0</td>\n",
              "      <td>1.0</td>\n",
              "      <td>Urban</td>\n",
              "      <td>Y</td>\n",
              "    </tr>\n",
              "    <tr>\n",
              "      <th>613</th>\n",
              "      <td>LP002990</td>\n",
              "      <td>Female</td>\n",
              "      <td>No</td>\n",
              "      <td>0</td>\n",
              "      <td>Graduate</td>\n",
              "      <td>Yes</td>\n",
              "      <td>4583</td>\n",
              "      <td>0.0</td>\n",
              "      <td>133.0</td>\n",
              "      <td>360.0</td>\n",
              "      <td>0.0</td>\n",
              "      <td>Semiurban</td>\n",
              "      <td>N</td>\n",
              "    </tr>\n",
              "  </tbody>\n",
              "</table>\n",
              "<p>614 rows × 13 columns</p>\n",
              "</div>\n",
              "    <div class=\"colab-df-buttons\">\n",
              "\n",
              "  <div class=\"colab-df-container\">\n",
              "    <button class=\"colab-df-convert\" onclick=\"convertToInteractive('df-ac554a71-0d50-4430-ab68-fdddcd6a0a73')\"\n",
              "            title=\"Convert this dataframe to an interactive table.\"\n",
              "            style=\"display:none;\">\n",
              "\n",
              "  <svg xmlns=\"http://www.w3.org/2000/svg\" height=\"24px\" viewBox=\"0 -960 960 960\">\n",
              "    <path d=\"M120-120v-720h720v720H120Zm60-500h600v-160H180v160Zm220 220h160v-160H400v160Zm0 220h160v-160H400v160ZM180-400h160v-160H180v160Zm440 0h160v-160H620v160ZM180-180h160v-160H180v160Zm440 0h160v-160H620v160Z\"/>\n",
              "  </svg>\n",
              "    </button>\n",
              "\n",
              "  <style>\n",
              "    .colab-df-container {\n",
              "      display:flex;\n",
              "      gap: 12px;\n",
              "    }\n",
              "\n",
              "    .colab-df-convert {\n",
              "      background-color: #E8F0FE;\n",
              "      border: none;\n",
              "      border-radius: 50%;\n",
              "      cursor: pointer;\n",
              "      display: none;\n",
              "      fill: #1967D2;\n",
              "      height: 32px;\n",
              "      padding: 0 0 0 0;\n",
              "      width: 32px;\n",
              "    }\n",
              "\n",
              "    .colab-df-convert:hover {\n",
              "      background-color: #E2EBFA;\n",
              "      box-shadow: 0px 1px 2px rgba(60, 64, 67, 0.3), 0px 1px 3px 1px rgba(60, 64, 67, 0.15);\n",
              "      fill: #174EA6;\n",
              "    }\n",
              "\n",
              "    .colab-df-buttons div {\n",
              "      margin-bottom: 4px;\n",
              "    }\n",
              "\n",
              "    [theme=dark] .colab-df-convert {\n",
              "      background-color: #3B4455;\n",
              "      fill: #D2E3FC;\n",
              "    }\n",
              "\n",
              "    [theme=dark] .colab-df-convert:hover {\n",
              "      background-color: #434B5C;\n",
              "      box-shadow: 0px 1px 3px 1px rgba(0, 0, 0, 0.15);\n",
              "      filter: drop-shadow(0px 1px 2px rgba(0, 0, 0, 0.3));\n",
              "      fill: #FFFFFF;\n",
              "    }\n",
              "  </style>\n",
              "\n",
              "    <script>\n",
              "      const buttonEl =\n",
              "        document.querySelector('#df-ac554a71-0d50-4430-ab68-fdddcd6a0a73 button.colab-df-convert');\n",
              "      buttonEl.style.display =\n",
              "        google.colab.kernel.accessAllowed ? 'block' : 'none';\n",
              "\n",
              "      async function convertToInteractive(key) {\n",
              "        const element = document.querySelector('#df-ac554a71-0d50-4430-ab68-fdddcd6a0a73');\n",
              "        const dataTable =\n",
              "          await google.colab.kernel.invokeFunction('convertToInteractive',\n",
              "                                                    [key], {});\n",
              "        if (!dataTable) return;\n",
              "\n",
              "        const docLinkHtml = 'Like what you see? Visit the ' +\n",
              "          '<a target=\"_blank\" href=https://colab.research.google.com/notebooks/data_table.ipynb>data table notebook</a>'\n",
              "          + ' to learn more about interactive tables.';\n",
              "        element.innerHTML = '';\n",
              "        dataTable['output_type'] = 'display_data';\n",
              "        await google.colab.output.renderOutput(dataTable, element);\n",
              "        const docLink = document.createElement('div');\n",
              "        docLink.innerHTML = docLinkHtml;\n",
              "        element.appendChild(docLink);\n",
              "      }\n",
              "    </script>\n",
              "  </div>\n",
              "\n",
              "\n",
              "    <div id=\"df-5ab5d320-c53c-4dbd-9e04-e5340ccd76a1\">\n",
              "      <button class=\"colab-df-quickchart\" onclick=\"quickchart('df-5ab5d320-c53c-4dbd-9e04-e5340ccd76a1')\"\n",
              "                title=\"Suggest charts\"\n",
              "                style=\"display:none;\">\n",
              "\n",
              "<svg xmlns=\"http://www.w3.org/2000/svg\" height=\"24px\"viewBox=\"0 0 24 24\"\n",
              "     width=\"24px\">\n",
              "    <g>\n",
              "        <path d=\"M19 3H5c-1.1 0-2 .9-2 2v14c0 1.1.9 2 2 2h14c1.1 0 2-.9 2-2V5c0-1.1-.9-2-2-2zM9 17H7v-7h2v7zm4 0h-2V7h2v10zm4 0h-2v-4h2v4z\"/>\n",
              "    </g>\n",
              "</svg>\n",
              "      </button>\n",
              "\n",
              "<style>\n",
              "  .colab-df-quickchart {\n",
              "      --bg-color: #E8F0FE;\n",
              "      --fill-color: #1967D2;\n",
              "      --hover-bg-color: #E2EBFA;\n",
              "      --hover-fill-color: #174EA6;\n",
              "      --disabled-fill-color: #AAA;\n",
              "      --disabled-bg-color: #DDD;\n",
              "  }\n",
              "\n",
              "  [theme=dark] .colab-df-quickchart {\n",
              "      --bg-color: #3B4455;\n",
              "      --fill-color: #D2E3FC;\n",
              "      --hover-bg-color: #434B5C;\n",
              "      --hover-fill-color: #FFFFFF;\n",
              "      --disabled-bg-color: #3B4455;\n",
              "      --disabled-fill-color: #666;\n",
              "  }\n",
              "\n",
              "  .colab-df-quickchart {\n",
              "    background-color: var(--bg-color);\n",
              "    border: none;\n",
              "    border-radius: 50%;\n",
              "    cursor: pointer;\n",
              "    display: none;\n",
              "    fill: var(--fill-color);\n",
              "    height: 32px;\n",
              "    padding: 0;\n",
              "    width: 32px;\n",
              "  }\n",
              "\n",
              "  .colab-df-quickchart:hover {\n",
              "    background-color: var(--hover-bg-color);\n",
              "    box-shadow: 0 1px 2px rgba(60, 64, 67, 0.3), 0 1px 3px 1px rgba(60, 64, 67, 0.15);\n",
              "    fill: var(--button-hover-fill-color);\n",
              "  }\n",
              "\n",
              "  .colab-df-quickchart-complete:disabled,\n",
              "  .colab-df-quickchart-complete:disabled:hover {\n",
              "    background-color: var(--disabled-bg-color);\n",
              "    fill: var(--disabled-fill-color);\n",
              "    box-shadow: none;\n",
              "  }\n",
              "\n",
              "  .colab-df-spinner {\n",
              "    border: 2px solid var(--fill-color);\n",
              "    border-color: transparent;\n",
              "    border-bottom-color: var(--fill-color);\n",
              "    animation:\n",
              "      spin 1s steps(1) infinite;\n",
              "  }\n",
              "\n",
              "  @keyframes spin {\n",
              "    0% {\n",
              "      border-color: transparent;\n",
              "      border-bottom-color: var(--fill-color);\n",
              "      border-left-color: var(--fill-color);\n",
              "    }\n",
              "    20% {\n",
              "      border-color: transparent;\n",
              "      border-left-color: var(--fill-color);\n",
              "      border-top-color: var(--fill-color);\n",
              "    }\n",
              "    30% {\n",
              "      border-color: transparent;\n",
              "      border-left-color: var(--fill-color);\n",
              "      border-top-color: var(--fill-color);\n",
              "      border-right-color: var(--fill-color);\n",
              "    }\n",
              "    40% {\n",
              "      border-color: transparent;\n",
              "      border-right-color: var(--fill-color);\n",
              "      border-top-color: var(--fill-color);\n",
              "    }\n",
              "    60% {\n",
              "      border-color: transparent;\n",
              "      border-right-color: var(--fill-color);\n",
              "    }\n",
              "    80% {\n",
              "      border-color: transparent;\n",
              "      border-right-color: var(--fill-color);\n",
              "      border-bottom-color: var(--fill-color);\n",
              "    }\n",
              "    90% {\n",
              "      border-color: transparent;\n",
              "      border-bottom-color: var(--fill-color);\n",
              "    }\n",
              "  }\n",
              "</style>\n",
              "\n",
              "      <script>\n",
              "        async function quickchart(key) {\n",
              "          const quickchartButtonEl =\n",
              "            document.querySelector('#' + key + ' button');\n",
              "          quickchartButtonEl.disabled = true;  // To prevent multiple clicks.\n",
              "          quickchartButtonEl.classList.add('colab-df-spinner');\n",
              "          try {\n",
              "            const charts = await google.colab.kernel.invokeFunction(\n",
              "                'suggestCharts', [key], {});\n",
              "          } catch (error) {\n",
              "            console.error('Error during call to suggestCharts:', error);\n",
              "          }\n",
              "          quickchartButtonEl.classList.remove('colab-df-spinner');\n",
              "          quickchartButtonEl.classList.add('colab-df-quickchart-complete');\n",
              "        }\n",
              "        (() => {\n",
              "          let quickchartButtonEl =\n",
              "            document.querySelector('#df-5ab5d320-c53c-4dbd-9e04-e5340ccd76a1 button');\n",
              "          quickchartButtonEl.style.display =\n",
              "            google.colab.kernel.accessAllowed ? 'block' : 'none';\n",
              "        })();\n",
              "      </script>\n",
              "    </div>\n",
              "\n",
              "  <div id=\"id_576a6798-a395-4207-b43e-9d1777100b60\">\n",
              "    <style>\n",
              "      .colab-df-generate {\n",
              "        background-color: #E8F0FE;\n",
              "        border: none;\n",
              "        border-radius: 50%;\n",
              "        cursor: pointer;\n",
              "        display: none;\n",
              "        fill: #1967D2;\n",
              "        height: 32px;\n",
              "        padding: 0 0 0 0;\n",
              "        width: 32px;\n",
              "      }\n",
              "\n",
              "      .colab-df-generate:hover {\n",
              "        background-color: #E2EBFA;\n",
              "        box-shadow: 0px 1px 2px rgba(60, 64, 67, 0.3), 0px 1px 3px 1px rgba(60, 64, 67, 0.15);\n",
              "        fill: #174EA6;\n",
              "      }\n",
              "\n",
              "      [theme=dark] .colab-df-generate {\n",
              "        background-color: #3B4455;\n",
              "        fill: #D2E3FC;\n",
              "      }\n",
              "\n",
              "      [theme=dark] .colab-df-generate:hover {\n",
              "        background-color: #434B5C;\n",
              "        box-shadow: 0px 1px 3px 1px rgba(0, 0, 0, 0.15);\n",
              "        filter: drop-shadow(0px 1px 2px rgba(0, 0, 0, 0.3));\n",
              "        fill: #FFFFFF;\n",
              "      }\n",
              "    </style>\n",
              "    <button class=\"colab-df-generate\" onclick=\"generateWithVariable('df')\"\n",
              "            title=\"Generate code using this dataframe.\"\n",
              "            style=\"display:none;\">\n",
              "\n",
              "  <svg xmlns=\"http://www.w3.org/2000/svg\" height=\"24px\"viewBox=\"0 0 24 24\"\n",
              "       width=\"24px\">\n",
              "    <path d=\"M7,19H8.4L18.45,9,17,7.55,7,17.6ZM5,21V16.75L18.45,3.32a2,2,0,0,1,2.83,0l1.4,1.43a1.91,1.91,0,0,1,.58,1.4,1.91,1.91,0,0,1-.58,1.4L9.25,21ZM18.45,9,17,7.55Zm-12,3A5.31,5.31,0,0,0,4.9,8.1,5.31,5.31,0,0,0,1,6.5,5.31,5.31,0,0,0,4.9,4.9,5.31,5.31,0,0,0,6.5,1,5.31,5.31,0,0,0,8.1,4.9,5.31,5.31,0,0,0,12,6.5,5.46,5.46,0,0,0,6.5,12Z\"/>\n",
              "  </svg>\n",
              "    </button>\n",
              "    <script>\n",
              "      (() => {\n",
              "      const buttonEl =\n",
              "        document.querySelector('#id_576a6798-a395-4207-b43e-9d1777100b60 button.colab-df-generate');\n",
              "      buttonEl.style.display =\n",
              "        google.colab.kernel.accessAllowed ? 'block' : 'none';\n",
              "\n",
              "      buttonEl.onclick = () => {\n",
              "        google.colab.notebook.generateWithVariable('df');\n",
              "      }\n",
              "      })();\n",
              "    </script>\n",
              "  </div>\n",
              "\n",
              "    </div>\n",
              "  </div>\n"
            ],
            "application/vnd.google.colaboratory.intrinsic+json": {
              "type": "dataframe",
              "variable_name": "df",
              "summary": "{\n  \"name\": \"df\",\n  \"rows\": 614,\n  \"fields\": [\n    {\n      \"column\": \"Loan_ID\",\n      \"properties\": {\n        \"dtype\": \"string\",\n        \"num_unique_values\": 614,\n        \"samples\": [\n          \"LP002139\",\n          \"LP002223\",\n          \"LP001570\"\n        ],\n        \"semantic_type\": \"\",\n        \"description\": \"\"\n      }\n    },\n    {\n      \"column\": \"Gender\",\n      \"properties\": {\n        \"dtype\": \"category\",\n        \"num_unique_values\": 2,\n        \"samples\": [\n          \"Female\",\n          \"Male\"\n        ],\n        \"semantic_type\": \"\",\n        \"description\": \"\"\n      }\n    },\n    {\n      \"column\": \"Married\",\n      \"properties\": {\n        \"dtype\": \"category\",\n        \"num_unique_values\": 2,\n        \"samples\": [\n          \"Yes\",\n          \"No\"\n        ],\n        \"semantic_type\": \"\",\n        \"description\": \"\"\n      }\n    },\n    {\n      \"column\": \"Dependents\",\n      \"properties\": {\n        \"dtype\": \"category\",\n        \"num_unique_values\": 4,\n        \"samples\": [\n          \"1\",\n          \"3+\"\n        ],\n        \"semantic_type\": \"\",\n        \"description\": \"\"\n      }\n    },\n    {\n      \"column\": \"Education\",\n      \"properties\": {\n        \"dtype\": \"category\",\n        \"num_unique_values\": 2,\n        \"samples\": [\n          \"Not Graduate\",\n          \"Graduate\"\n        ],\n        \"semantic_type\": \"\",\n        \"description\": \"\"\n      }\n    },\n    {\n      \"column\": \"Self_Employed\",\n      \"properties\": {\n        \"dtype\": \"category\",\n        \"num_unique_values\": 2,\n        \"samples\": [\n          \"Yes\",\n          \"No\"\n        ],\n        \"semantic_type\": \"\",\n        \"description\": \"\"\n      }\n    },\n    {\n      \"column\": \"ApplicantIncome\",\n      \"properties\": {\n        \"dtype\": \"number\",\n        \"std\": 6109,\n        \"min\": 150,\n        \"max\": 81000,\n        \"num_unique_values\": 505,\n        \"samples\": [\n          8333,\n          4342\n        ],\n        \"semantic_type\": \"\",\n        \"description\": \"\"\n      }\n    },\n    {\n      \"column\": \"CoapplicantIncome\",\n      \"properties\": {\n        \"dtype\": \"number\",\n        \"std\": 2926.2483692241917,\n        \"min\": 0.0,\n        \"max\": 41667.0,\n        \"num_unique_values\": 287,\n        \"samples\": [\n          1840.0,\n          2042.0\n        ],\n        \"semantic_type\": \"\",\n        \"description\": \"\"\n      }\n    },\n    {\n      \"column\": \"LoanAmount\",\n      \"properties\": {\n        \"dtype\": \"number\",\n        \"std\": 85.58732523570545,\n        \"min\": 9.0,\n        \"max\": 700.0,\n        \"num_unique_values\": 203,\n        \"samples\": [\n          100.0,\n          70.0\n        ],\n        \"semantic_type\": \"\",\n        \"description\": \"\"\n      }\n    },\n    {\n      \"column\": \"Loan_Amount_Term\",\n      \"properties\": {\n        \"dtype\": \"number\",\n        \"std\": 65.12040985461256,\n        \"min\": 12.0,\n        \"max\": 480.0,\n        \"num_unique_values\": 10,\n        \"samples\": [\n          84.0,\n          120.0\n        ],\n        \"semantic_type\": \"\",\n        \"description\": \"\"\n      }\n    },\n    {\n      \"column\": \"Credit_History\",\n      \"properties\": {\n        \"dtype\": \"number\",\n        \"std\": 0.3648783192364049,\n        \"min\": 0.0,\n        \"max\": 1.0,\n        \"num_unique_values\": 2,\n        \"samples\": [\n          0.0,\n          1.0\n        ],\n        \"semantic_type\": \"\",\n        \"description\": \"\"\n      }\n    },\n    {\n      \"column\": \"Property_Area\",\n      \"properties\": {\n        \"dtype\": \"category\",\n        \"num_unique_values\": 3,\n        \"samples\": [\n          \"Urban\",\n          \"Rural\"\n        ],\n        \"semantic_type\": \"\",\n        \"description\": \"\"\n      }\n    },\n    {\n      \"column\": \"Loan_Status\",\n      \"properties\": {\n        \"dtype\": \"category\",\n        \"num_unique_values\": 2,\n        \"samples\": [\n          \"N\",\n          \"Y\"\n        ],\n        \"semantic_type\": \"\",\n        \"description\": \"\"\n      }\n    }\n  ]\n}"
            }
          },
          "metadata": {},
          "execution_count": 6
        }
      ]
    },
    {
      "cell_type": "code",
      "source": [
        "# Estandarizar nombres de columnas\n",
        "df.columns = df.columns.str.lower().str.replace(\" \", \"_\")\n",
        "\n",
        "print(\"Nombres de columnas actualizados:\")\n",
        "print(df.columns.tolist())"
      ],
      "metadata": {
        "colab": {
          "base_uri": "https://localhost:8080/"
        },
        "id": "Sen_zXDMcrgf",
        "outputId": "38c6e14f-133f-44df-cdae-63310c1b1177"
      },
      "execution_count": 7,
      "outputs": [
        {
          "output_type": "stream",
          "name": "stdout",
          "text": [
            "Nombres de columnas actualizados:\n",
            "['loan_id', 'gender', 'married', 'dependents', 'education', 'self_employed', 'applicantincome', 'coapplicantincome', 'loanamount', 'loan_amount_term', 'credit_history', 'property_area', 'loan_status']\n"
          ]
        }
      ]
    },
    {
      "cell_type": "code",
      "source": [
        " #Identificar si exiten valores nulos\n",
        "print(\"Valores nulos antes de la limpieza:\")\n",
        "print(df.isnull().sum())"
      ],
      "metadata": {
        "colab": {
          "base_uri": "https://localhost:8080/"
        },
        "id": "pwACzJiedFIc",
        "outputId": "bae255ad-8024-4c67-a505-dab33df9009f"
      },
      "execution_count": 22,
      "outputs": [
        {
          "output_type": "stream",
          "name": "stdout",
          "text": [
            "Valores nulos antes de la limpieza:\n",
            "loan_id               0\n",
            "gender               13\n",
            "married               3\n",
            "dependents           15\n",
            "education             0\n",
            "self_employed        32\n",
            "applicantincome       0\n",
            "coapplicantincome     0\n",
            "loanamount           22\n",
            "loan_amount_term     14\n",
            "credit_history       50\n",
            "property_area         0\n",
            "loan_status           0\n",
            "dtype: int64\n"
          ]
        }
      ]
    },
    {
      "cell_type": "code",
      "source": [
        "# Revisar duplicados.\n",
        "df.duplicated().sum()"
      ],
      "metadata": {
        "colab": {
          "base_uri": "https://localhost:8080/"
        },
        "id": "2c3AEN3rdFFd",
        "outputId": "a8a08677-33a4-4cda-b9c4-064844e5d9d0"
      },
      "execution_count": 9,
      "outputs": [
        {
          "output_type": "execute_result",
          "data": {
            "text/plain": [
              "np.int64(0)"
            ]
          },
          "metadata": {},
          "execution_count": 9
        }
      ]
    },
    {
      "cell_type": "code",
      "source": [
        "# Verificar espacios vacíos en columnas de texto\n",
        "columnas_texto = df.select_dtypes(include=['object']).columns\n",
        "\n",
        "print(\"Análisis de espacios vacíos en columnas de texto:\")\n",
        "for col in columnas_texto:\n",
        "    # Contar espacios vacíos\n",
        "    espacios_vacios = df[col].astype(str).str.strip().eq('').sum()\n",
        "    if espacios_vacios > 0:\n",
        "        print(f\"\\n{col}: {espacios_vacios} espacios vacíos\")\n",
        "\n",
        "    # Verificar valores únicos (primeros 10)\n",
        "    valores_unicos = df[col].nunique()\n",
        "    print(f\"{col}: {valores_unicos} valores únicos\")\n",
        "    if valores_unicos < 20:\n",
        "        print(f\"Valores: {df[col].value_counts().head(10).to_dict()}\")"
      ],
      "metadata": {
        "colab": {
          "base_uri": "https://localhost:8080/"
        },
        "id": "rYS8Ed5cdFAz",
        "outputId": "b6e82d0c-d7b9-41b0-c08c-d616287eee9b"
      },
      "execution_count": 10,
      "outputs": [
        {
          "output_type": "stream",
          "name": "stdout",
          "text": [
            "Análisis de espacios vacíos en columnas de texto:\n",
            "loan_id: 614 valores únicos\n",
            "gender: 2 valores únicos\n",
            "Valores: {'Male': 489, 'Female': 112}\n",
            "married: 2 valores únicos\n",
            "Valores: {'Yes': 398, 'No': 213}\n",
            "dependents: 4 valores únicos\n",
            "Valores: {'0': 345, '1': 102, '2': 101, '3+': 51}\n",
            "education: 2 valores únicos\n",
            "Valores: {'Graduate': 480, 'Not Graduate': 134}\n",
            "self_employed: 2 valores únicos\n",
            "Valores: {'No': 500, 'Yes': 82}\n",
            "property_area: 3 valores únicos\n",
            "Valores: {'Semiurban': 233, 'Urban': 202, 'Rural': 179}\n",
            "loan_status: 2 valores únicos\n",
            "Valores: {'Y': 422, 'N': 192}\n"
          ]
        }
      ]
    },
    {
      "cell_type": "code",
      "source": [
        "# Estadísticas para variables numéricas\n",
        "print(\"Estadísticas descriptivas de variables numéricas:\")\n",
        "df.describe().T"
      ],
      "metadata": {
        "colab": {
          "base_uri": "https://localhost:8080/",
          "height": 224
        },
        "id": "12hROeAkdtT6",
        "outputId": "f43d329b-3dfa-4dde-ead0-1ad0593cf6c0"
      },
      "execution_count": 11,
      "outputs": [
        {
          "output_type": "stream",
          "name": "stdout",
          "text": [
            "Estadísticas descriptivas de variables numéricas:\n"
          ]
        },
        {
          "output_type": "execute_result",
          "data": {
            "text/plain": [
              "                   count         mean          std    min     25%     50%  \\\n",
              "applicantincome    614.0  5403.459283  6109.041673  150.0  2877.5  3812.5   \n",
              "coapplicantincome  614.0  1621.245798  2926.248369    0.0     0.0  1188.5   \n",
              "loanamount         592.0   146.412162    85.587325    9.0   100.0   128.0   \n",
              "loan_amount_term   600.0   342.000000    65.120410   12.0   360.0   360.0   \n",
              "credit_history     564.0     0.842199     0.364878    0.0     1.0     1.0   \n",
              "\n",
              "                       75%      max  \n",
              "applicantincome    5795.00  81000.0  \n",
              "coapplicantincome  2297.25  41667.0  \n",
              "loanamount          168.00    700.0  \n",
              "loan_amount_term    360.00    480.0  \n",
              "credit_history        1.00      1.0  "
            ],
            "text/html": [
              "\n",
              "  <div id=\"df-c1e88fc2-9628-4384-8b6d-c4a179b21b24\" class=\"colab-df-container\">\n",
              "    <div>\n",
              "<style scoped>\n",
              "    .dataframe tbody tr th:only-of-type {\n",
              "        vertical-align: middle;\n",
              "    }\n",
              "\n",
              "    .dataframe tbody tr th {\n",
              "        vertical-align: top;\n",
              "    }\n",
              "\n",
              "    .dataframe thead th {\n",
              "        text-align: right;\n",
              "    }\n",
              "</style>\n",
              "<table border=\"1\" class=\"dataframe\">\n",
              "  <thead>\n",
              "    <tr style=\"text-align: right;\">\n",
              "      <th></th>\n",
              "      <th>count</th>\n",
              "      <th>mean</th>\n",
              "      <th>std</th>\n",
              "      <th>min</th>\n",
              "      <th>25%</th>\n",
              "      <th>50%</th>\n",
              "      <th>75%</th>\n",
              "      <th>max</th>\n",
              "    </tr>\n",
              "  </thead>\n",
              "  <tbody>\n",
              "    <tr>\n",
              "      <th>applicantincome</th>\n",
              "      <td>614.0</td>\n",
              "      <td>5403.459283</td>\n",
              "      <td>6109.041673</td>\n",
              "      <td>150.0</td>\n",
              "      <td>2877.5</td>\n",
              "      <td>3812.5</td>\n",
              "      <td>5795.00</td>\n",
              "      <td>81000.0</td>\n",
              "    </tr>\n",
              "    <tr>\n",
              "      <th>coapplicantincome</th>\n",
              "      <td>614.0</td>\n",
              "      <td>1621.245798</td>\n",
              "      <td>2926.248369</td>\n",
              "      <td>0.0</td>\n",
              "      <td>0.0</td>\n",
              "      <td>1188.5</td>\n",
              "      <td>2297.25</td>\n",
              "      <td>41667.0</td>\n",
              "    </tr>\n",
              "    <tr>\n",
              "      <th>loanamount</th>\n",
              "      <td>592.0</td>\n",
              "      <td>146.412162</td>\n",
              "      <td>85.587325</td>\n",
              "      <td>9.0</td>\n",
              "      <td>100.0</td>\n",
              "      <td>128.0</td>\n",
              "      <td>168.00</td>\n",
              "      <td>700.0</td>\n",
              "    </tr>\n",
              "    <tr>\n",
              "      <th>loan_amount_term</th>\n",
              "      <td>600.0</td>\n",
              "      <td>342.000000</td>\n",
              "      <td>65.120410</td>\n",
              "      <td>12.0</td>\n",
              "      <td>360.0</td>\n",
              "      <td>360.0</td>\n",
              "      <td>360.00</td>\n",
              "      <td>480.0</td>\n",
              "    </tr>\n",
              "    <tr>\n",
              "      <th>credit_history</th>\n",
              "      <td>564.0</td>\n",
              "      <td>0.842199</td>\n",
              "      <td>0.364878</td>\n",
              "      <td>0.0</td>\n",
              "      <td>1.0</td>\n",
              "      <td>1.0</td>\n",
              "      <td>1.00</td>\n",
              "      <td>1.0</td>\n",
              "    </tr>\n",
              "  </tbody>\n",
              "</table>\n",
              "</div>\n",
              "    <div class=\"colab-df-buttons\">\n",
              "\n",
              "  <div class=\"colab-df-container\">\n",
              "    <button class=\"colab-df-convert\" onclick=\"convertToInteractive('df-c1e88fc2-9628-4384-8b6d-c4a179b21b24')\"\n",
              "            title=\"Convert this dataframe to an interactive table.\"\n",
              "            style=\"display:none;\">\n",
              "\n",
              "  <svg xmlns=\"http://www.w3.org/2000/svg\" height=\"24px\" viewBox=\"0 -960 960 960\">\n",
              "    <path d=\"M120-120v-720h720v720H120Zm60-500h600v-160H180v160Zm220 220h160v-160H400v160Zm0 220h160v-160H400v160ZM180-400h160v-160H180v160Zm440 0h160v-160H620v160ZM180-180h160v-160H180v160Zm440 0h160v-160H620v160Z\"/>\n",
              "  </svg>\n",
              "    </button>\n",
              "\n",
              "  <style>\n",
              "    .colab-df-container {\n",
              "      display:flex;\n",
              "      gap: 12px;\n",
              "    }\n",
              "\n",
              "    .colab-df-convert {\n",
              "      background-color: #E8F0FE;\n",
              "      border: none;\n",
              "      border-radius: 50%;\n",
              "      cursor: pointer;\n",
              "      display: none;\n",
              "      fill: #1967D2;\n",
              "      height: 32px;\n",
              "      padding: 0 0 0 0;\n",
              "      width: 32px;\n",
              "    }\n",
              "\n",
              "    .colab-df-convert:hover {\n",
              "      background-color: #E2EBFA;\n",
              "      box-shadow: 0px 1px 2px rgba(60, 64, 67, 0.3), 0px 1px 3px 1px rgba(60, 64, 67, 0.15);\n",
              "      fill: #174EA6;\n",
              "    }\n",
              "\n",
              "    .colab-df-buttons div {\n",
              "      margin-bottom: 4px;\n",
              "    }\n",
              "\n",
              "    [theme=dark] .colab-df-convert {\n",
              "      background-color: #3B4455;\n",
              "      fill: #D2E3FC;\n",
              "    }\n",
              "\n",
              "    [theme=dark] .colab-df-convert:hover {\n",
              "      background-color: #434B5C;\n",
              "      box-shadow: 0px 1px 3px 1px rgba(0, 0, 0, 0.15);\n",
              "      filter: drop-shadow(0px 1px 2px rgba(0, 0, 0, 0.3));\n",
              "      fill: #FFFFFF;\n",
              "    }\n",
              "  </style>\n",
              "\n",
              "    <script>\n",
              "      const buttonEl =\n",
              "        document.querySelector('#df-c1e88fc2-9628-4384-8b6d-c4a179b21b24 button.colab-df-convert');\n",
              "      buttonEl.style.display =\n",
              "        google.colab.kernel.accessAllowed ? 'block' : 'none';\n",
              "\n",
              "      async function convertToInteractive(key) {\n",
              "        const element = document.querySelector('#df-c1e88fc2-9628-4384-8b6d-c4a179b21b24');\n",
              "        const dataTable =\n",
              "          await google.colab.kernel.invokeFunction('convertToInteractive',\n",
              "                                                    [key], {});\n",
              "        if (!dataTable) return;\n",
              "\n",
              "        const docLinkHtml = 'Like what you see? Visit the ' +\n",
              "          '<a target=\"_blank\" href=https://colab.research.google.com/notebooks/data_table.ipynb>data table notebook</a>'\n",
              "          + ' to learn more about interactive tables.';\n",
              "        element.innerHTML = '';\n",
              "        dataTable['output_type'] = 'display_data';\n",
              "        await google.colab.output.renderOutput(dataTable, element);\n",
              "        const docLink = document.createElement('div');\n",
              "        docLink.innerHTML = docLinkHtml;\n",
              "        element.appendChild(docLink);\n",
              "      }\n",
              "    </script>\n",
              "  </div>\n",
              "\n",
              "\n",
              "    <div id=\"df-6333fdbf-b083-49e9-aec1-abcedfbf8c6d\">\n",
              "      <button class=\"colab-df-quickchart\" onclick=\"quickchart('df-6333fdbf-b083-49e9-aec1-abcedfbf8c6d')\"\n",
              "                title=\"Suggest charts\"\n",
              "                style=\"display:none;\">\n",
              "\n",
              "<svg xmlns=\"http://www.w3.org/2000/svg\" height=\"24px\"viewBox=\"0 0 24 24\"\n",
              "     width=\"24px\">\n",
              "    <g>\n",
              "        <path d=\"M19 3H5c-1.1 0-2 .9-2 2v14c0 1.1.9 2 2 2h14c1.1 0 2-.9 2-2V5c0-1.1-.9-2-2-2zM9 17H7v-7h2v7zm4 0h-2V7h2v10zm4 0h-2v-4h2v4z\"/>\n",
              "    </g>\n",
              "</svg>\n",
              "      </button>\n",
              "\n",
              "<style>\n",
              "  .colab-df-quickchart {\n",
              "      --bg-color: #E8F0FE;\n",
              "      --fill-color: #1967D2;\n",
              "      --hover-bg-color: #E2EBFA;\n",
              "      --hover-fill-color: #174EA6;\n",
              "      --disabled-fill-color: #AAA;\n",
              "      --disabled-bg-color: #DDD;\n",
              "  }\n",
              "\n",
              "  [theme=dark] .colab-df-quickchart {\n",
              "      --bg-color: #3B4455;\n",
              "      --fill-color: #D2E3FC;\n",
              "      --hover-bg-color: #434B5C;\n",
              "      --hover-fill-color: #FFFFFF;\n",
              "      --disabled-bg-color: #3B4455;\n",
              "      --disabled-fill-color: #666;\n",
              "  }\n",
              "\n",
              "  .colab-df-quickchart {\n",
              "    background-color: var(--bg-color);\n",
              "    border: none;\n",
              "    border-radius: 50%;\n",
              "    cursor: pointer;\n",
              "    display: none;\n",
              "    fill: var(--fill-color);\n",
              "    height: 32px;\n",
              "    padding: 0;\n",
              "    width: 32px;\n",
              "  }\n",
              "\n",
              "  .colab-df-quickchart:hover {\n",
              "    background-color: var(--hover-bg-color);\n",
              "    box-shadow: 0 1px 2px rgba(60, 64, 67, 0.3), 0 1px 3px 1px rgba(60, 64, 67, 0.15);\n",
              "    fill: var(--button-hover-fill-color);\n",
              "  }\n",
              "\n",
              "  .colab-df-quickchart-complete:disabled,\n",
              "  .colab-df-quickchart-complete:disabled:hover {\n",
              "    background-color: var(--disabled-bg-color);\n",
              "    fill: var(--disabled-fill-color);\n",
              "    box-shadow: none;\n",
              "  }\n",
              "\n",
              "  .colab-df-spinner {\n",
              "    border: 2px solid var(--fill-color);\n",
              "    border-color: transparent;\n",
              "    border-bottom-color: var(--fill-color);\n",
              "    animation:\n",
              "      spin 1s steps(1) infinite;\n",
              "  }\n",
              "\n",
              "  @keyframes spin {\n",
              "    0% {\n",
              "      border-color: transparent;\n",
              "      border-bottom-color: var(--fill-color);\n",
              "      border-left-color: var(--fill-color);\n",
              "    }\n",
              "    20% {\n",
              "      border-color: transparent;\n",
              "      border-left-color: var(--fill-color);\n",
              "      border-top-color: var(--fill-color);\n",
              "    }\n",
              "    30% {\n",
              "      border-color: transparent;\n",
              "      border-left-color: var(--fill-color);\n",
              "      border-top-color: var(--fill-color);\n",
              "      border-right-color: var(--fill-color);\n",
              "    }\n",
              "    40% {\n",
              "      border-color: transparent;\n",
              "      border-right-color: var(--fill-color);\n",
              "      border-top-color: var(--fill-color);\n",
              "    }\n",
              "    60% {\n",
              "      border-color: transparent;\n",
              "      border-right-color: var(--fill-color);\n",
              "    }\n",
              "    80% {\n",
              "      border-color: transparent;\n",
              "      border-right-color: var(--fill-color);\n",
              "      border-bottom-color: var(--fill-color);\n",
              "    }\n",
              "    90% {\n",
              "      border-color: transparent;\n",
              "      border-bottom-color: var(--fill-color);\n",
              "    }\n",
              "  }\n",
              "</style>\n",
              "\n",
              "      <script>\n",
              "        async function quickchart(key) {\n",
              "          const quickchartButtonEl =\n",
              "            document.querySelector('#' + key + ' button');\n",
              "          quickchartButtonEl.disabled = true;  // To prevent multiple clicks.\n",
              "          quickchartButtonEl.classList.add('colab-df-spinner');\n",
              "          try {\n",
              "            const charts = await google.colab.kernel.invokeFunction(\n",
              "                'suggestCharts', [key], {});\n",
              "          } catch (error) {\n",
              "            console.error('Error during call to suggestCharts:', error);\n",
              "          }\n",
              "          quickchartButtonEl.classList.remove('colab-df-spinner');\n",
              "          quickchartButtonEl.classList.add('colab-df-quickchart-complete');\n",
              "        }\n",
              "        (() => {\n",
              "          let quickchartButtonEl =\n",
              "            document.querySelector('#df-6333fdbf-b083-49e9-aec1-abcedfbf8c6d button');\n",
              "          quickchartButtonEl.style.display =\n",
              "            google.colab.kernel.accessAllowed ? 'block' : 'none';\n",
              "        })();\n",
              "      </script>\n",
              "    </div>\n",
              "\n",
              "    </div>\n",
              "  </div>\n"
            ],
            "application/vnd.google.colaboratory.intrinsic+json": {
              "type": "dataframe",
              "summary": "{\n  \"name\": \"df\",\n  \"rows\": 5,\n  \"fields\": [\n    {\n      \"column\": \"count\",\n      \"properties\": {\n        \"dtype\": \"number\",\n        \"std\": 20.620378270051205,\n        \"min\": 564.0,\n        \"max\": 614.0,\n        \"num_unique_values\": 4,\n        \"samples\": [\n          592.0,\n          564.0,\n          614.0\n        ],\n        \"semantic_type\": \"\",\n        \"description\": \"\"\n      }\n    },\n    {\n      \"column\": \"mean\",\n      \"properties\": {\n        \"dtype\": \"number\",\n        \"std\": 2273.339729104267,\n        \"min\": 0.8421985815602837,\n        \"max\": 5403.459283387622,\n        \"num_unique_values\": 5,\n        \"samples\": [\n          1621.2457980271008,\n          0.8421985815602837,\n          146.41216216216216\n        ],\n        \"semantic_type\": \"\",\n        \"description\": \"\"\n      }\n    },\n    {\n      \"column\": \"std\",\n      \"properties\": {\n        \"dtype\": \"number\",\n        \"std\": 2693.3730667667487,\n        \"min\": 0.3648783192364049,\n        \"max\": 6109.041673387174,\n        \"num_unique_values\": 5,\n        \"samples\": [\n          2926.2483692241917,\n          0.3648783192364049,\n          85.58732523570545\n        ],\n        \"semantic_type\": \"\",\n        \"description\": \"\"\n      }\n    },\n    {\n      \"column\": \"min\",\n      \"properties\": {\n        \"dtype\": \"number\",\n        \"std\": 64.95536929307691,\n        \"min\": 0.0,\n        \"max\": 150.0,\n        \"num_unique_values\": 4,\n        \"samples\": [\n          0.0,\n          12.0,\n          150.0\n        ],\n        \"semantic_type\": \"\",\n        \"description\": \"\"\n      }\n    },\n    {\n      \"column\": \"25%\",\n      \"properties\": {\n        \"dtype\": \"number\",\n        \"std\": 1244.0348467788192,\n        \"min\": 0.0,\n        \"max\": 2877.5,\n        \"num_unique_values\": 5,\n        \"samples\": [\n          0.0,\n          1.0,\n          100.0\n        ],\n        \"semantic_type\": \"\",\n        \"description\": \"\"\n      }\n    },\n    {\n      \"column\": \"50%\",\n      \"properties\": {\n        \"dtype\": \"number\",\n        \"std\": 1586.3207037040145,\n        \"min\": 1.0,\n        \"max\": 3812.5,\n        \"num_unique_values\": 5,\n        \"samples\": [\n          1188.5,\n          1.0,\n          128.0\n        ],\n        \"semantic_type\": \"\",\n        \"description\": \"\"\n      }\n    },\n    {\n      \"column\": \"75%\",\n      \"properties\": {\n        \"dtype\": \"number\",\n        \"std\": 2457.2350950814616,\n        \"min\": 1.0,\n        \"max\": 5795.0,\n        \"num_unique_values\": 5,\n        \"samples\": [\n          2297.25,\n          1.0,\n          168.0\n        ],\n        \"semantic_type\": \"\",\n        \"description\": \"\"\n      }\n    },\n    {\n      \"column\": \"max\",\n      \"properties\": {\n        \"dtype\": \"number\",\n        \"std\": 36160.03964737871,\n        \"min\": 1.0,\n        \"max\": 81000.0,\n        \"num_unique_values\": 5,\n        \"samples\": [\n          41667.0,\n          1.0,\n          700.0\n        ],\n        \"semantic_type\": \"\",\n        \"description\": \"\"\n      }\n    }\n  ]\n}"
            }
          },
          "metadata": {},
          "execution_count": 11
        }
      ]
    },
    {
      "cell_type": "markdown",
      "metadata": {
        "id": "6tgWPqF0bKSZ"
      },
      "source": [
        "## 🎯 PASO 4: Analizar la variable objetivo"
      ]
    },
    {
      "cell_type": "code",
      "execution_count": 12,
      "metadata": {
        "colab": {
          "base_uri": "https://localhost:8080/"
        },
        "id": "p06ng-DWbKSY",
        "outputId": "636fb4dd-201d-4d75-a9b8-a28a2be6511a"
      },
      "outputs": [
        {
          "output_type": "stream",
          "name": "stdout",
          "text": [
            "Valores faltantes por columna:\n",
            "   gender: 13 (2.1%)\n",
            "   married: 3 (0.5%)\n",
            "   dependents: 15 (2.4%)\n",
            "   self_employed: 32 (5.2%)\n",
            "   loanamount: 22 (3.6%)\n",
            "   loan_amount_term: 14 (2.3%)\n",
            "   credit_history: 50 (8.1%)\n"
          ]
        }
      ],
      "source": [
        "# Verificar valores faltantes\n",
        "print(\"Valores faltantes por columna:\")\n",
        "valores_faltantes = df.isnull().sum()\n",
        "for col, faltantes in valores_faltantes.items():\n",
        "    if faltantes > 0:\n",
        "        porcentaje = (faltantes / len(df)) * 100\n",
        "        print(f\"   {col}: {faltantes} ({porcentaje:.1f}%)\")\n",
        "\n",
        "if valores_faltantes.sum() == 0:\n",
        "    print(\"   ✅ No hay valores faltantes\")"
      ]
    },
    {
      "cell_type": "code",
      "execution_count": 15,
      "metadata": {
        "colab": {
          "base_uri": "https://localhost:8080/",
          "height": 577
        },
        "id": "ZW52f3PobKSZ",
        "outputId": "0cd9c24b-418a-46b7-eb78-decec67499cc"
      },
      "outputs": [
        {
          "output_type": "stream",
          "name": "stdout",
          "text": [
            "🎯 Variable objetivo (Loan_Status):\n",
            "   Aprobados (Y): 422 (68.7%)\n",
            "   Rechazados (N): 192 (31.3%)\n"
          ]
        },
        {
          "output_type": "display_data",
          "data": {
            "text/plain": [
              "<Figure size 800x500 with 1 Axes>"
            ],
            "image/png": "[encoded data removed]"
          },
          "metadata": {}
        },
        {
          "output_type": "stream",
          "name": "stdout",
          "text": [
            "\n",
            "💡 Observación: 69% de los préstamos son aprobados\n"
          ]
        }
      ],
      "source": [
        "# Analizar cuántos préstamos fueron aprobados vs rechazados\n",
        "print(\"🎯 Variable objetivo (Loan_Status):\")\n",
        "conteo = df['loan_status'].value_counts()\n",
        "porcentajes = df['loan_status'].value_counts(normalize=True) * 100\n",
        "\n",
        "print(f\"   Aprobados (Y): {conteo['Y']} ({porcentajes['Y']:.1f}%)\")\n",
        "print(f\"   Rechazados (N): {conteo['N']} ({porcentajes['N']:.1f}%)\")\n",
        "\n",
        "# Crear un gráfico simple\n",
        "plt.figure(figsize=(8, 5))\n",
        "conteo.plot(kind='bar', color=['lightcoral', 'lightblue'])\n",
        "plt.title('Distribución de Préstamos: Aprobados vs Rechazados')\n",
        "plt.xlabel('Estado del Préstamo')\n",
        "plt.ylabel('Cantidad')\n",
        "plt.xticks([0, 1], ['Rechazado (N)', 'Aprobado (Y)'], rotation=0)\n",
        "plt.show()\n",
        "\n",
        "print(f\"\\n💡 Observación: {porcentajes['Y']:.0f}% de los préstamos son aprobados\")"
      ]
    },
    {
      "cell_type": "markdown",
      "metadata": {
        "id": "04ZXLl_VbKSa"
      },
      "source": [
        "## 🧹 PASO 5: Limpiar los datos"
      ]
    },
    {
      "cell_type": "code",
      "execution_count": 20,
      "metadata": {
        "colab": {
          "base_uri": "https://localhost:8080/"
        },
        "id": "2hv9veHdbKSa",
        "outputId": "5d144470-d0f3-4b82-d622-7d29a4919675"
      },
      "outputs": [
        {
          "output_type": "stream",
          "name": "stdout",
          "text": [
            "\n",
            "🔤 LIMPIANDO VARIABLES CATEGÓRICAS:\n",
            "   ✓ gender: 13 valores rellenados con 'Male'\n",
            "   ✓ married: 3 valores rellenados con 'Yes'\n",
            "   ✓ dependents: 15 valores rellenados con '0'\n",
            "   ✓ self_employed: 32 valores rellenados con 'No'\n",
            "\n",
            "🔢 LIMPIANDO VARIABLES NUMÉRICAS:\n",
            "   ✓ loanamount: 22 valores rellenados con 128.0\n",
            "   ✓ loan_amount_term: 14 valores rellenados con 360.0\n",
            "   ✓ credit_history: 50 valores rellenados con 1.0\n"
          ]
        }
      ],
      "source": [
        "# Crear una copia para no modificar los datos originales\n",
        "df_limpio = df.copy()\n",
        "\n",
        "# Definir columnas según tu dataset (nombres en minúsculas)\n",
        "columnas_categoricas = ['gender', 'married', 'dependents', 'self_employed']\n",
        "columnas_numericas = ['loanamount', 'loan_amount_term', 'credit_history']\n",
        "\n",
        "# LIMPIAR VARIABLES CATEGÓRICAS\n",
        "print(\"\\n🔤 LIMPIANDO VARIABLES CATEGÓRICAS:\")\n",
        "for col in columnas_categoricas:\n",
        "    if col in df_limpio.columns and df_limpio[col].isnull().sum() > 0:\n",
        "        valores_faltantes = df_limpio[col].isnull().sum()\n",
        "        moda = df_limpio[col].mode()[0]\n",
        "        df_limpio[col] = df_limpio[col].fillna(moda)\n",
        "        print(f\"   ✓ {col}: {valores_faltantes} valores rellenados con '{moda}'\")\n",
        "\n",
        "# LIMPIAR VARIABLES NUMÉRICAS\n",
        "print(\"\\n🔢 LIMPIANDO VARIABLES NUMÉRICAS:\")\n",
        "for col in columnas_numericas:\n",
        "    if col in df_limpio.columns and df_limpio[col].isnull().sum() > 0:\n",
        "        valores_faltantes = df_limpio[col].isnull().sum()\n",
        "        mediana = df_limpio[col].median()\n",
        "        df_limpio[col] = df_limpio[col].fillna(mediana)\n",
        "        print(f\"   ✓ {col}: {valores_faltantes} valores rellenados con {mediana}\")"
      ]
    },
    {
      "cell_type": "code",
      "source": [
        "# Revisamos los NaN si hay\n",
        "filas_con_nan = df_limpio[df_limpio.isnull().any(axis=1)]\n",
        "\n",
        "print(\"Filas que contienen al menos un valor NaN:\")\n",
        "print(filas_con_nan)\n",
        "\n",
        "# También puedes verificar el total de NaN por columna\n",
        "print(\"\\nTotal de valores NaN por columna:\")\n",
        "print(df_limpio.isnull().sum())\n",
        "\n",
        "# O simplemente verificar si hay algún NaN\n",
        "total_nan = df_limpio.isnull().sum().sum()\n",
        "print(f\"\\nTotal de valores NaN en todo el dataset: {total_nan}\")"
      ],
      "metadata": {
        "colab": {
          "base_uri": "https://localhost:8080/"
        },
        "id": "HNSQpVS_eVdN",
        "outputId": "96854a44-1ca3-4fab-9e16-c46ae1d36a8d"
      },
      "execution_count": 21,
      "outputs": [
        {
          "output_type": "stream",
          "name": "stdout",
          "text": [
            "Filas que contienen al menos un valor NaN:\n",
            "Empty DataFrame\n",
            "Columns: [loan_id, gender, married, dependents, education, self_employed, applicantincome, coapplicantincome, loanamount, loan_amount_term, credit_history, property_area, loan_status]\n",
            "Index: []\n",
            "\n",
            "Total de valores NaN por columna:\n",
            "loan_id              0\n",
            "gender               0\n",
            "married              0\n",
            "dependents           0\n",
            "education            0\n",
            "self_employed        0\n",
            "applicantincome      0\n",
            "coapplicantincome    0\n",
            "loanamount           0\n",
            "loan_amount_term     0\n",
            "credit_history       0\n",
            "property_area        0\n",
            "loan_status          0\n",
            "dtype: int64\n",
            "\n",
            "Total de valores NaN en todo el dataset: 0\n"
          ]
        }
      ]
    },
    {
      "cell_type": "markdown",
      "metadata": {
        "id": "n3U9H9SpbKSa"
      },
      "source": [
        "## ⚙️ PASO 6: Preparar datos para el modelo"
      ]
    },
    {
      "cell_type": "code",
      "execution_count": 31,
      "metadata": {
        "colab": {
          "base_uri": "https://localhost:8080/"
        },
        "id": "N508URn1bKSa",
        "outputId": "1ad2fa83-8142-4705-8f67-f5d77c9c65c5"
      },
      "outputs": [
        {
          "output_type": "stream",
          "name": "stdout",
          "text": [
            " Preparando datos para el modelo...\n",
            "\n",
            " Datos preparados:\n",
            "   Características (X): 11 columnas, 614 filas\n",
            "   Variable objetivo (y): loan_status\n",
            "\n",
            " Características disponibles:\n",
            "    1. gender (categórico)\n",
            "    2. married (categórico)\n",
            "    3. dependents (categórico)\n",
            "    4. education (categórico)\n",
            "    5. self_employed (categórico)\n",
            "    6. applicantincome (numérico)\n",
            "    7. coapplicantincome (numérico)\n",
            "    8. loanamount (numérico)\n",
            "    9. loan_amount_term (numérico)\n",
            "   10. credit_history (numérico)\n",
            "   11. property_area (categórico)\n"
          ]
        }
      ],
      "source": [
        "# Separar características (X) de la variable objetivo (y)\n",
        "print(\" Preparando datos para el modelo...\")\n",
        "\n",
        "# X = características que usaremos para predecir\n",
        "X = df_limpio.drop(['loan_id', 'loan_status'], axis=1)\n",
        "# y = lo que queremos predecir (aprobado/rechazado)\n",
        "y = df_limpio['loan_status']\n",
        "\n",
        "print(f\"\\n Datos preparados:\")\n",
        "print(f\"   Características (X): {X.shape[1]} columnas, {X.shape[0]} filas\")\n",
        "print(f\"   Variable objetivo (y): {y.name}\")\n",
        "print(f\"\\n Características disponibles:\")\n",
        "for i, col in enumerate(X.columns, 1):\n",
        "    tipo_dato = \"numérico\" if X[col].dtype in ['int64', 'float64'] else \"categórico\"\n",
        "    print(f\"   {i:2d}. {col} ({tipo_dato})\")"
      ]
    },
    {
      "cell_type": "code",
      "execution_count": 33,
      "metadata": {
        "colab": {
          "base_uri": "https://localhost:8080/"
        },
        "id": "_sXBgpKvbKSa",
        "outputId": "b7df3bc5-65a8-4c17-ed78-b71e0fa73578"
      },
      "outputs": [
        {
          "output_type": "stream",
          "name": "stdout",
          "text": [
            " Convirtiendo texto a números...\n",
            "\n",
            " ¿Por qué? Los algoritmos de ML solo entienden números, no texto\n",
            "   ✓ gender: convertido a números\n",
            "   ✓ married: convertido a números\n",
            "   ✓ dependents: convertido a números\n",
            "   ✓ education: convertido a números\n",
            "   ✓ self_employed: convertido a números\n",
            "   ✓ property_area: convertido a números\n",
            "   ✓ Loan_Status: Y=1, N=0\n",
            "\n",
            " Conversión completada\n",
            "   Todas las 11 características son ahora numéricas\n"
          ]
        }
      ],
      "source": [
        "# Convertir variables categóricas a números\n",
        "print(\" Convirtiendo texto a números...\")\n",
        "print(\"\\n ¿Por qué? Los algoritmos de ML solo entienden números, no texto\")\n",
        "\n",
        "X_numerico = X.copy()\n",
        "le = LabelEncoder()\n",
        "\n",
        "# Convertir cada columna de texto a números\n",
        "for col in X_numerico.columns:\n",
        "    if X_numerico[col].dtype == 'object':  # Si es texto\n",
        "        X_numerico[col] = le.fit_transform(X_numerico[col].astype(str))\n",
        "        print(f\"   ✓ {col}: convertido a números\")\n",
        "\n",
        "# Convertir variable objetivo Y/N a 1/0\n",
        "y_numerico = le.fit_transform(y)\n",
        "print(f\"   ✓ Loan_Status: Y=1, N=0\")\n",
        "\n",
        "print(f\"\\n Conversión completada\")\n",
        "print(f\"   Todas las {X_numerico.shape[1]} características son ahora numéricas\")"
      ]
    },
    {
      "cell_type": "markdown",
      "metadata": {
        "id": "4-_kjEbMbKSb"
      },
      "source": [
        "##  PASO 7: Dividir los datos"
      ]
    },
    {
      "cell_type": "code",
      "execution_count": 36,
      "metadata": {
        "colab": {
          "base_uri": "https://localhost:8080/"
        },
        "id": "C7YTTRU4bKSb",
        "outputId": "3a244dda-81d4-4646-e4d7-421e3ad420e1"
      },
      "outputs": [
        {
          "output_type": "stream",
          "name": "stdout",
          "text": [
            "\n",
            "División completada:\n",
            "   Entrenamiento: 491 muestras (80%)\n",
            "   Prueba: 123 muestras (20%)\n",
            "\n",
            " Distribución balanceada:\n",
            "   Entrenamiento: 68.6% aprobados\n",
            "   Prueba: 69.1% aprobados\n"
          ]
        }
      ],
      "source": [
        "# Dividir datos en entrenamiento (80%) y prueba (20%)\n",
        "X_train, X_test, y_train, y_test = train_test_split(\n",
        "    X_numerico, y_numerico,\n",
        "    test_size=0.2,      # 20% para prueba\n",
        "    random_state=42,    # Para obtener resultados reproducibles\n",
        "    stratify=y_numerico # Mantener la misma proporción de aprobados/rechazados\n",
        ")\n",
        "\n",
        "print(f\"\\nDivisión completada:\")\n",
        "print(f\"   Entrenamiento: {X_train.shape[0]} muestras ({X_train.shape[0]/len(df_limpio)*100:.0f}%)\")\n",
        "print(f\"   Prueba: {X_test.shape[0]} muestras ({X_test.shape[0]/len(df_limpio)*100:.0f}%)\")\n",
        "\n",
        "# Verificar distribución de clases\n",
        "train_aprobados = (y_train == 1).sum() / len(y_train) * 100\n",
        "test_aprobados = (y_test == 1).sum() / len(y_test) * 100\n",
        "print(f\"\\n Distribución balanceada:\")\n",
        "print(f\"   Entrenamiento: {train_aprobados:.1f}% aprobados\")\n",
        "print(f\"   Prueba: {test_aprobados:.1f}% aprobados\")"
      ]
    },
    {
      "cell_type": "markdown",
      "metadata": {
        "id": "opmEfY6FbKSb"
      },
      "source": [
        "## 🤖 PASO 8: Entrenar el modelo"
      ]
    },
    {
      "cell_type": "code",
      "execution_count": 37,
      "metadata": {
        "colab": {
          "base_uri": "https://localhost:8080/"
        },
        "id": "E-55x5OKbKSb",
        "outputId": "4c7ab6e7-ec7c-4c1b-8c8b-9a448591d8da"
      },
      "outputs": [
        {
          "output_type": "stream",
          "name": "stdout",
          "text": [
            "\n",
            "⏳ Entrenando... (esto puede tomar unos segundos)\n",
            "¡Modelo entrenado exitosamente!\n",
            "\n",
            "El modelo aprendió de 491 casos de entrenamiento\n",
            "Ahora puede hacer predicciones sobre casos nuevos\n"
          ]
        }
      ],
      "source": [
        "# Crear y entrenar el modelo\n",
        "\n",
        "# Crear el modelo con parámetros simples\n",
        "modelo = GradientBoostingClassifier(\n",
        "    n_estimators=100,    # Número de 'expertos'\n",
        "    learning_rate=0.1,   # Velocidad de aprendizaje\n",
        "    max_depth=3,         # Profundidad de cada 'experto'\n",
        "    random_state=42      # Para resultados reproducibles\n",
        ")\n",
        "\n",
        "print(\"\\n⏳ Entrenando... (esto puede tomar unos segundos)\")\n",
        "modelo.fit(X_train, y_train)\n",
        "print(\"¡Modelo entrenado exitosamente!\")\n",
        "\n",
        "print(f\"\\nEl modelo aprendió de {X_train.shape[0]} casos de entrenamiento\")\n",
        "print(f\"Ahora puede hacer predicciones sobre casos nuevos\")"
      ]
    },
    {
      "cell_type": "markdown",
      "metadata": {
        "id": "Mkk3LmGxbKSc"
      },
      "source": [
        "## 🔮 PASO 9: Hacer predicciones"
      ]
    },
    {
      "cell_type": "code",
      "execution_count": 39,
      "metadata": {
        "colab": {
          "base_uri": "https://localhost:8080/"
        },
        "id": "jXZ9M3KObKSc",
        "outputId": "219bd041-a53c-4030-89ef-eed8f9278899"
      },
      "outputs": [
        {
          "output_type": "stream",
          "name": "stdout",
          "text": [
            "Haciendo predicciones...\n",
            "\n",
            " Resultados de predicciones:\n",
            "   Entrenamiento: 491 predicciones, 90.0% de precisión\n",
            "   Prueba: 123 predicciones, 79.7% de precisión\n",
            "\n",
            " Posible sobreajuste: diferencia de 10.3%\n",
            "   El modelo memorizó los datos de entrenamiento\n"
          ]
        }
      ],
      "source": [
        "# Hacer predicciones en datos de entrenamiento y prueba\n",
        "print(\"Haciendo predicciones...\")\n",
        "\n",
        "# Predicciones en entrenamiento (para ver si aprendió bien)\n",
        "y_train_pred = modelo.predict(X_train)\n",
        "train_accuracy = accuracy_score(y_train, y_train_pred)\n",
        "\n",
        "# Predicciones en prueba (el test real)\n",
        "y_test_pred = modelo.predict(X_test)\n",
        "test_accuracy = accuracy_score(y_test, y_test_pred)\n",
        "\n",
        "print(f\"\\n Resultados de predicciones:\")\n",
        "print(f\"   Entrenamiento: {len(y_train_pred)} predicciones, {train_accuracy:.1%} de precisión\")\n",
        "print(f\"   Prueba: {len(y_test_pred)} predicciones, {test_accuracy:.1%} de precisión\")\n",
        "\n",
        "# Análisis rápido de resultados\n",
        "diferencia = train_accuracy - test_accuracy\n",
        "if diferencia > 0.1:  # Si la diferencia es mayor al 10%\n",
        "    print(f\"\\n Posible sobreajuste: diferencia de {diferencia:.1%}\")\n",
        "    print(\"   El modelo memorizó los datos de entrenamiento\")\n",
        "else:\n",
        "    print(f\"\\n Buen balance: diferencia de solo {diferencia:.1%}\")\n",
        "    print(\"   El modelo generalizó bien\")"
      ]
    },
    {
      "cell_type": "markdown",
      "metadata": {
        "id": "xSEJmu32bKSc"
      },
      "source": [
        "## 📈 PASO 10: Evaluar el modelo"
      ]
    },
    {
      "cell_type": "code",
      "execution_count": 40,
      "metadata": {
        "colab": {
          "base_uri": "https://localhost:8080/"
        },
        "id": "TbREbJO_bKSc",
        "outputId": "1068f35e-88ea-4362-e6a2-09c0f1eb6d42"
      },
      "outputs": [
        {
          "output_type": "stream",
          "name": "stdout",
          "text": [
            "📈 EVALUACIÓN COMPLETA DEL MODELO\n",
            "========================================\n",
            "\n",
            "🎯 PRECISIÓN GENERAL: 79.7%\n",
            "   De cada 100 predicciones, 80 son correctas\n",
            "\n",
            "📊 Nivel de rendimiento: BUENO 👍\n",
            "\n",
            "📋 REPORTE DETALLADO:\n",
            "\n",
            "   RECHAZADOS:\n",
            "   - Precisión: 74.1% (cuando predice rechazo, acierta 74.1%)\n",
            "   - Recall: 52.6% (encuentra 52.6% de todos los rechazos reales)\n",
            "\n",
            "   APROBADOS:\n",
            "   - Precisión: 81.2% (cuando predice aprobación, acierta 81.2%)\n",
            "   - Recall: 91.8% (encuentra 91.8% de todas las aprobaciones reales)\n"
          ]
        }
      ],
      "source": [
        "# Evaluación detallada del modelo\n",
        "print(\"📈 EVALUACIÓN COMPLETA DEL MODELO\")\n",
        "print(\"=\" * 40)\n",
        "\n",
        "print(f\"\\n🎯 PRECISIÓN GENERAL: {test_accuracy:.1%}\")\n",
        "print(f\"   De cada 100 predicciones, {test_accuracy*100:.0f} son correctas\")\n",
        "\n",
        "# Interpretación de la precisión\n",
        "if test_accuracy >= 0.8:\n",
        "    nivel = \"EXCELENTE 🏆\"\n",
        "elif test_accuracy >= 0.7:\n",
        "    nivel = \"BUENO 👍\"\n",
        "elif test_accuracy >= 0.6:\n",
        "    nivel = \"ACEPTABLE 👌\"\n",
        "else:\n",
        "    nivel = \"NECESITA MEJORAS 🔧\"\n",
        "\n",
        "print(f\"\\n📊 Nivel de rendimiento: {nivel}\")\n",
        "\n",
        "# Reporte detallado\n",
        "print(f\"\\n📋 REPORTE DETALLADO:\")\n",
        "nombres_clases = ['Rechazado', 'Aprobado']\n",
        "reporte = classification_report(y_test, y_test_pred,\n",
        "                              target_names=nombres_clases,\n",
        "                              output_dict=True)\n",
        "\n",
        "print(f\"\\n   RECHAZADOS:\")\n",
        "print(f\"   - Precisión: {reporte['Rechazado']['precision']:.1%} (cuando predice rechazo, acierta {reporte['Rechazado']['precision']:.1%})\")\n",
        "print(f\"   - Recall: {reporte['Rechazado']['recall']:.1%} (encuentra {reporte['Rechazado']['recall']:.1%} de todos los rechazos reales)\")\n",
        "\n",
        "print(f\"\\n   APROBADOS:\")\n",
        "print(f\"   - Precisión: {reporte['Aprobado']['precision']:.1%} (cuando predice aprobación, acierta {reporte['Aprobado']['precision']:.1%})\")\n",
        "print(f\"   - Recall: {reporte['Aprobado']['recall']:.1%} (encuentra {reporte['Aprobado']['recall']:.1%} de todas las aprobaciones reales)\")"
      ]
    },
    {
      "cell_type": "code",
      "execution_count": 42,
      "metadata": {
        "colab": {
          "base_uri": "https://localhost:8080/"
        },
        "id": "EC0tmHw8bKSc",
        "outputId": "8ef5acbb-a801-424b-cedd-64f732ae2cb7"
      },
      "outputs": [
        {
          "output_type": "stream",
          "name": "stdout",
          "text": [
            "🔍 MATRIZ DE CONFUSIÓN (¿Dónde se equivoca el modelo?)\n",
            "==================================================\n",
            "\n",
            "                 PREDICCIÓN\n",
            "                Rech.  Aprob.\n",
            "REAL  Rechazado    20     18\n",
            "      Aprobado      7     78\n",
            "\n",
            "💡 Interpretación:\n",
            "    Predicciones correctas: 98 de 123\n",
            "    Falsos positivos: 18 (predijo aprobado, era rechazado)\n",
            "    Falsos negativos: 7 (predijo rechazado, era aprobado)\n",
            "\n",
            " El modelo tiende a aprobar préstamos que deberían rechazarse\n"
          ]
        }
      ],
      "source": [
        "# Crear matriz de confusión visual\n",
        "from sklearn.metrics import confusion_matrix\n",
        "\n",
        "# Calcular matriz de confusión\n",
        "cm = confusion_matrix(y_test, y_test_pred)\n",
        "\n",
        "print(\"🔍 MATRIZ DE CONFUSIÓN (¿Dónde se equivoca el modelo?)\")\n",
        "print(\"=\" * 50)\n",
        "print(f\"\\n                 PREDICCIÓN\")\n",
        "print(f\"                Rech.  Aprob.\")\n",
        "print(f\"REAL  Rechazado   {cm[0,0]:3d}    {cm[0,1]:3d}\")\n",
        "print(f\"      Aprobado    {cm[1,0]:3d}    {cm[1,1]:3d}\")\n",
        "\n",
        "# Interpretación\n",
        "print(f\"\\n💡 Interpretación:\")\n",
        "print(f\"    Predicciones correctas: {cm[0,0] + cm[1,1]} de {len(y_test)}\")\n",
        "print(f\"    Falsos positivos: {cm[0,1]} (predijo aprobado, era rechazado)\")\n",
        "print(f\"    Falsos negativos: {cm[1,0]} (predijo rechazado, era aprobado)\")\n",
        "\n",
        "# ¿Cuál es peor error?\n",
        "if cm[0,1] > cm[1,0]:\n",
        "    print(f\"\\n El modelo tiende a aprobar préstamos que deberían rechazarse\")\n",
        "elif cm[1,0] > cm[0,1]:\n",
        "    print(f\"\\n El modelo tiende a rechazar préstamos que deberían aprobarse\")\n",
        "else:\n",
        "    print(f\"\\n El modelo tiene errores balanceados\")"
      ]
    },
    {
      "cell_type": "markdown",
      "metadata": {
        "id": "a6yoAd7kbKSc"
      },
      "source": [
        "## 🔍 PASO 11: Características más importantes"
      ]
    },
    {
      "cell_type": "code",
      "execution_count": 45,
      "metadata": {
        "colab": {
          "base_uri": "https://localhost:8080/"
        },
        "id": "UBMB9TNrbKSd",
        "outputId": "e3bb2532-2102-4cd8-ea28-8abbf2eeebe5"
      },
      "outputs": [
        {
          "output_type": "stream",
          "name": "stdout",
          "text": [
            "🔍 ¿QUÉ FACTORES SON MÁS IMPORTANTES PARA APROBAR UN PRÉSTAMO?\n",
            "============================================================\n",
            "\n",
            " TOP 5 FACTORES MÁS IMPORTANTES:\n",
            "    (Puntuación de 0 a 1, donde 1 = máxima importancia)\n",
            "\n",
            "1. credit_history       │████████████████████░░░░░░░░░░░░░░░░░░░░░░░░░░░░░░│ 0.407\n",
            "2. loanamount           │████████░░░░░░░░░░░░░░░░░░░░░░░░░░░░░░░░░░░░░░░░░░│ 0.170\n",
            "3. applicantincome      │████████░░░░░░░░░░░░░░░░░░░░░░░░░░░░░░░░░░░░░░░░░░│ 0.162\n",
            "4. coapplicantincome    │█████░░░░░░░░░░░░░░░░░░░░░░░░░░░░░░░░░░░░░░░░░░░░░│ 0.114\n",
            "5. loan_amount_term     │██░░░░░░░░░░░░░░░░░░░░░░░░░░░░░░░░░░░░░░░░░░░░░░░░│ 0.042\n",
            "\n",
            "💡 INTERPRETACIÓN:\n",
            "  Factor principal: credit_history (40.7% de importancia)\n",
            "\n",
            " CONSEJO PRÁCTICO:\n",
            "   Para aumentar probabilidades de aprobación, enfócate en:\n"
          ]
        }
      ],
      "source": [
        "# Analizar qué características son más importantes para el modelo\n",
        "print(\"🔍 ¿QUÉ FACTORES SON MÁS IMPORTANTES PARA APROBAR UN PRÉSTAMO?\")\n",
        "print(\"=\" * 60)\n",
        "\n",
        "# Obtener importancias\n",
        "importancias = modelo.feature_importances_\n",
        "nombres_caracteristicas = X.columns\n",
        "\n",
        "# Crear lista ordenada\n",
        "caracteristicas_importantes = list(zip(nombres_caracteristicas, importancias))\n",
        "caracteristicas_importantes.sort(key=lambda x: x[1], reverse=True)\n",
        "\n",
        "print(f\"\\n TOP 5 FACTORES MÁS IMPORTANTES:\")\n",
        "print(f\"    (Puntuación de 0 a 1, donde 1 = máxima importancia)\\n\")\n",
        "\n",
        "for i, (nombre, importancia) in enumerate(caracteristicas_importantes[:5], 1):\n",
        "    # Crear barra visual\n",
        "    barra_longitud = int(importancia * 50)  # Escalar a 50 caracteres\n",
        "    barra = \"█\" * barra_longitud + \"░\" * (50 - barra_longitud)\n",
        "\n",
        "    print(f\"{i}. {nombre:20s} │{barra}│ {importancia:.3f}\")\n",
        "\n",
        "# Interpretaciones específicas\n",
        "factor_principal = caracteristicas_importantes[0][0]\n",
        "importancia_principal = caracteristicas_importantes[0][1]\n",
        "\n",
        "print(f\"\\n💡 INTERPRETACIÓN:\")\n",
        "print(f\"  Factor principal: {factor_principal} ({importancia_principal:.1%} de importancia)\")\n",
        "\n",
        "# Interpretaciones por factor\n",
        "interpretaciones = {\n",
        "    'Credit_History': 'El historial crediticio es CLAVE - pagar deudas a tiempo es fundamental',\n",
        "    'LoanAmount': 'La cantidad solicitada importa - préstamos muy altos son más riesgosos',\n",
        "    'ApplicantIncome': 'Los ingresos del solicitante son un factor importante',\n",
        "    'CoapplicantIncome': 'Los ingresos del cónyuge/aval también cuentan',\n",
        "    'Property_Area': 'La ubicación de la propiedad influye en la decisión',\n",
        "    'Education': 'El nivel educativo afecta la aprobación',\n",
        "    'Married': 'El estado civil es un factor considerado',\n",
        "    'Self_Employed': 'Ser autoempleado vs empleado hace diferencia'\n",
        "}\n",
        "\n",
        "if factor_principal in interpretaciones:\n",
        "    print(f\"   📝 {interpretaciones[factor_principal]}\")\n",
        "\n",
        "print(f\"\\n CONSEJO PRÁCTICO:\")\n",
        "print(f\"   Para aumentar probabilidades de aprobación, enfócate en:\")\n",
        "for i, (nombre, _) in enumerate(caracteristicas_importantes[:3], 1):\n",
        "    if nombre in interpretaciones:\n",
        "        print(f\"   {i}. {interpretaciones[nombre]}\")"
      ]
    },
    {
      "cell_type": "markdown",
      "metadata": {
        "id": "d07UAfCYbKSd"
      },
      "source": [
        "## 📊 PASO 12: Visualizaciones finales"
      ]
    },
    {
      "cell_type": "code",
      "execution_count": 46,
      "metadata": {
        "colab": {
          "base_uri": "https://localhost:8080/",
          "height": 525
        },
        "id": "xPC2yl9MbKSd",
        "outputId": "27433c9c-dd56-4c70-d7b7-6a935fcd45bd"
      },
      "outputs": [
        {
          "output_type": "display_data",
          "data": {
            "text/plain": [
              "<Figure size 1500x500 with 4 Axes>"
            ],
            "image/png": "[encoded data removed]"
          },
          "metadata": {}
        },
        {
          "output_type": "stream",
          "name": "stdout",
          "text": [
            "📊 Gráficos generados exitosamente\n"
          ]
        }
      ],
      "source": [
        "# Crear gráficos para entender mejor los resultados\n",
        "plt.figure(figsize=(15, 5))\n",
        "\n",
        "# Gráfico 1: Importancia de características\n",
        "plt.subplot(1, 3, 1)\n",
        "nombres_top5 = [nombre for nombre, _ in caracteristicas_importantes[:5]]\n",
        "importancias_top5 = [imp for _, imp in caracteristicas_importantes[:5]]\n",
        "\n",
        "plt.barh(nombres_top5, importancias_top5, color='lightblue')\n",
        "plt.title('Top 5 Factores Más Importantes')\n",
        "plt.xlabel('Importancia')\n",
        "plt.gca().invert_yaxis()  # Invertir para que el más importante esté arriba\n",
        "\n",
        "# Gráfico 2: Matriz de confusión\n",
        "plt.subplot(1, 3, 2)\n",
        "plt.imshow(cm, interpolation='nearest', cmap='Blues')\n",
        "plt.title('Matriz de Confusión')\n",
        "plt.colorbar()\n",
        "tick_marks = [0, 1]\n",
        "plt.xticks(tick_marks, ['Rechazado', 'Aprobado'])\n",
        "plt.yticks(tick_marks, ['Rechazado', 'Aprobado'])\n",
        "plt.ylabel('Valor Real')\n",
        "plt.xlabel('Predicción')\n",
        "\n",
        "# Añadir números a la matriz\n",
        "for i in range(2):\n",
        "    for j in range(2):\n",
        "        plt.text(j, i, cm[i, j], ha=\"center\", va=\"center\", color=\"black\", fontsize=14)\n",
        "\n",
        "# Gráfico 3: Comparación de precisión\n",
        "plt.subplot(1, 3, 3)\n",
        "precisiones = [train_accuracy, test_accuracy]\n",
        "categorias = ['Entrenamiento', 'Prueba']\n",
        "colores = ['lightgreen', 'lightcoral']\n",
        "\n",
        "barras = plt.bar(categorias, precisiones, color=colores)\n",
        "plt.title('Precisión del Modelo')\n",
        "plt.ylabel('Precisión (%)')\n",
        "plt.ylim(0, 1)\n",
        "\n",
        "# Añadir etiquetas de porcentaje\n",
        "for barra, precision in zip(barras, precisiones):\n",
        "    plt.text(barra.get_x() + barra.get_width()/2, barra.get_height() + 0.01,\n",
        "             f'{precision:.1%}', ha='center', va='bottom')\n",
        "\n",
        "plt.tight_layout()\n",
        "plt.show()\n",
        "\n",
        "print(\"📊 Gráficos generados exitosamente\")"
      ]
    },
    {
      "cell_type": "markdown",
      "metadata": {
        "id": "MUK4wLMKbKSd"
      },
      "source": [
        "## 🎯 PASO 13: Resumen final y conclusiones"
      ]
    },
    {
      "cell_type": "code",
      "execution_count": 49,
      "metadata": {
        "colab": {
          "base_uri": "https://localhost:8080/"
        },
        "id": "yK1YgtaDbKSd",
        "outputId": "7b293a50-5e28-4821-fe81-4de247100de3"
      },
      "outputs": [
        {
          "output_type": "stream",
          "name": "stdout",
          "text": [
            "🎉 RESUMEN FINAL DEL ANÁLISIS\n",
            "==================================================\n",
            "\n",
            "📊 DATOS ANALIZADOS:\n",
            "   • 614 solicitudes de préstamo\n",
            "   • 11 características por solicitud\n",
            "   • 69% de aprobación histórica\n",
            "\n",
            "🤖 MODELO DESARROLLADO:\n",
            "   • Algoritmo: Gradient Boosting\n",
            "   • Precisión: 79.7%\n",
            "   • Entrenado con 491 casos\n",
            "   • Evaluado con 123 casos\n",
            "\n",
            "🔍 HALLAZGOS PRINCIPALES:\n",
            "   1. credit_history es el factor más importante (40.7%)\n",
            "   2. loanamount es el segundo factor más importante (17.0%)\n",
            "   3. applicantincome es el tercer factor más importante (16.2%)\n",
            "\n",
            "📈 RENDIMIENTO:\n",
            "   • Predice aprobaciones con 81.2% de precisión\n",
            "   • Predice rechazos con 74.1% de precisión\n",
            "   • De cada 100 predicciones, 80 son correctas\n",
            "\n",
            "💼 APLICACIONES PRÁCTICAS:\n",
            "   ✓ Automatizar evaluación inicial de préstamos\n",
            "   ✓ Identificar factores de riesgo principales\n",
            "   ✓ Acelerar proceso de toma de decisiones\n",
            "   ✓ Reducir sesgos humanos en evaluación\n",
            "\n",
            "🚀 SIGUIENTES PASOS:\n",
            "   1. Recopilar más datos para mejorar precisión\n",
            "   2. Probar algoritmos más avanzados\n",
            "   3. Crear nuevas características derivadas\n",
            "   4. Implementar en sistema de producción\n",
            "Tu modelo puede predecir aprobaciones de préstamos con 80% de precisión.\n"
          ]
        }
      ],
      "source": [
        "# Resumen ejecutivo del análisis\n",
        "print(\"🎉 RESUMEN FINAL DEL ANÁLISIS\")\n",
        "print(\"=\" * 50)\n",
        "\n",
        "print(f\"\\n📊 DATOS ANALIZADOS:\")\n",
        "print(f\"   • {df.shape[0]} solicitudes de préstamo\")\n",
        "print(f\"   • {X.shape[1]} características por solicitud\")\n",
        "print(f\"   • {porcentajes['Y']:.0f}% de aprobación histórica\")\n",
        "\n",
        "print(f\"\\n🤖 MODELO DESARROLLADO:\")\n",
        "print(f\"   • Algoritmo: Gradient Boosting\")\n",
        "print(f\"   • Precisión: {test_accuracy:.1%}\")\n",
        "print(f\"   • Entrenado con {X_train.shape[0]} casos\")\n",
        "print(f\"   • Evaluado con {X_test.shape[0]} casos\")\n",
        "\n",
        "print(f\"\\n🔍 HALLAZGOS PRINCIPALES:\")\n",
        "print(f\"   1. {caracteristicas_importantes[0][0]} es el factor más importante ({caracteristicas_importantes[0][1]:.1%})\")\n",
        "print(f\"   2. {caracteristicas_importantes[1][0]} es el segundo factor más importante ({caracteristicas_importantes[1][1]:.1%})\")\n",
        "print(f\"   3. {caracteristicas_importantes[2][0]} es el tercer factor más importante ({caracteristicas_importantes[2][1]:.1%})\")\n",
        "\n",
        "print(f\"\\n📈 RENDIMIENTO:\")\n",
        "precision_rechazos = reporte['Rechazado']['precision']\n",
        "precision_aprobados = reporte['Aprobado']['precision']\n",
        "print(f\"   • Predice aprobaciones con {precision_aprobados:.1%} de precisión\")\n",
        "print(f\"   • Predice rechazos con {precision_rechazos:.1%} de precisión\")\n",
        "print(f\"   • De cada 100 predicciones, {test_accuracy*100:.0f} son correctas\")\n",
        "\n",
        "print(f\"\\n💼 APLICACIONES PRÁCTICAS:\")\n",
        "print(f\"   ✓ Automatizar evaluación inicial de préstamos\")\n",
        "print(f\"   ✓ Identificar factores de riesgo principales\")\n",
        "print(f\"   ✓ Acelerar proceso de toma de decisiones\")\n",
        "print(f\"   ✓ Reducir sesgos humanos en evaluación\")\n",
        "\n",
        "print(f\"\\n🚀 SIGUIENTES PASOS:\")\n",
        "print(f\"   1. Recopilar más datos para mejorar precisión\")\n",
        "print(f\"   2. Probar algoritmos más avanzados\")\n",
        "print(f\"   3. Crear nuevas características derivadas\")\n",
        "print(f\"   4. Implementar en sistema de producción\")\n",
        "\n",
        "print(f\"Tu modelo puede predecir aprobaciones de préstamos con {test_accuracy:.0%} de precisión.\")"
      ]
    }
  ],
  "metadata": {
    "kernelspec": {
      "display_name": "Python 3",
      "language": "python",
      "name": "python3"
    },
    "language_info": {
      "codemirror_mode": {
        "name": "ipython",
        "version": 3
      },
      "file_extension": ".py",
      "mimetype": "text/x-python",
      "name": "python",
      "nbconvert_exporter": "python",
      "pygments_lexer": "ipython3",
      "version": "3.8.5"
    },
    "colab": {
      "provenance": []
    }
  },
  "nbformat": 4,
  "nbformat_minor": 0
}